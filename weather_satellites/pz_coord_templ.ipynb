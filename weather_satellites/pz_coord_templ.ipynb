{
 "cells": [
  {
   "cell_type": "markdown",
   "metadata": {},
   "source": [
    "# Расчёт координат подспутниковой точки\n"
   ]
  },
  {
   "cell_type": "markdown",
   "metadata": {},
   "source": [
    "### Исполнитель: "
   ]
  },
  {
   "cell_type": "code",
   "execution_count": null,
   "metadata": {},
   "outputs": [],
   "source": [
    "from math import pi, sin, cos, atan2, asin, acos, fmod, sqrt, fabs\n",
    "import sys\n",
    "import math"
   ]
  },
  {
   "cell_type": "code",
   "execution_count": null,
   "metadata": {},
   "outputs": [],
   "source": [
    "def readTle(satName):\n",
    "    file = open(\"tle.txt\", 'r')\n",
    "    tle = file.read().split('\\n')\n",
    "    file.close();\n",
    "\n",
    "    cnt = int(len(tle) / 3)\n",
    "    sat = {}\n",
    "    idx = 0\n",
    "    for idx in range(0, cnt):\n",
    "        if (satName == tle[idx*3].strip()) :            \n",
    "            line1 = tle[idx*3+1].strip()\n",
    "            line2 = tle[idx*3+2].strip()\n",
    "            sat['epoch'] = float(line1[20:32])\n",
    "            sat['ii']    = float(line2[8:16]) *pi/180\n",
    "            sat['raan']  = float(line2[17:25]) * pi/180\n",
    "            sat['ec']    = float('0.' + line2[26:33])\n",
    "            sat['perig'] = float(line2[34:42]) *pi/180\n",
    "            sat['M']     = float(line2[43:51]) *pi/180\n",
    "            sat['n']     = float(line2[52:63])\n",
    "            sat['n'] = sat['n']*2*pi\n",
    "            sat['T'] = 86400 / sat['n']\n",
    "            break   \n",
    "    return sat"
   ]
  },
  {
   "cell_type": "markdown",
   "metadata": {},
   "source": [
    "### Орбитальные элементы\n",
    "Найдите ваш спутник в файле tle.txt и скопируйте двухстрочный набор элементов. Найдите эпоху и кеплеровы элементы. Выпишите и приведите к заданным единицам измерения."
   ]
  },
  {
   "cell_type": "markdown",
   "metadata": {},
   "source": [
    "Двухстрочный набор элементов:\n",
    "\n",
    "\n",
    "\n"
   ]
  },
  {
   "cell_type": "code",
   "execution_count": null,
   "metadata": {},
   "outputs": [],
   "source": [
    "# TODO Введите название спутника (пример: satName = \"Название спутника\")\n",
    "satName = \"\""
   ]
  },
  {
   "cell_type": "code",
   "execution_count": null,
   "metadata": {},
   "outputs": [],
   "source": [
    "# TODO Введите параметры орбиты из TLE и заданный момент времени\n",
    "\n",
    "\n",
    "# TODO Переведите единицы измерения углов из градусов в радианы. Переведите число оборотов КА в радианы\n",
    "\n"
   ]
  },
  {
   "cell_type": "code",
   "execution_count": null,
   "metadata": {},
   "outputs": [],
   "source": [
    "#TODO Выведите получившиеся значения с помощью функции print\n"
   ]
  },
  {
   "cell_type": "code",
   "execution_count": null,
   "metadata": {},
   "outputs": [],
   "source": [
    "#Вызов функции чтения TLE\n",
    "tle = readTle(satName)\n",
    "\n",
    "\n",
    "print(\"Эпоха =\", tle['epoch'])\n",
    "print(\"Наклонение=\", tle['ii'], \n",
    "      \"\\nДолгота восходящего угла=\", tle['raan'], \n",
    "      \"\\nАномалия=\", tle['M'], \n",
    "      \"\\nАргумент перигея=\", tle['perig'],\n",
    "      \"\\nЭксцентриситет=\", tle['ec'], \n",
    "      \"\\nЧисло оборотов=\", tle['n'] )"
   ]
  },
  {
   "cell_type": "code",
   "execution_count": null,
   "metadata": {},
   "outputs": [],
   "source": [
    "#TODO Провеьте, что ваши значения кеплеровых элементов совпадают с расчитанными с помощью функции чтения TLE"
   ]
  },
  {
   "cell_type": "markdown",
   "metadata": {},
   "source": [
    "## Положение спутника в инерциальной геоцентрической системе координат на момент эпохи"
   ]
  },
  {
   "cell_type": "code",
   "execution_count": null,
   "metadata": {},
   "outputs": [],
   "source": [
    "#Функция перевода даты и времени в день эпохи от начала года\n",
    "def calc_epoch(dayYear, hour, min, sec):\n",
    "    # TODO Вычислите момент времени t (см. презентацию)\n",
    "    t = \n",
    "    return t\n"
   ]
  },
  {
   "cell_type": "code",
   "execution_count": null,
   "metadata": {},
   "outputs": [],
   "source": [
    "#TODO определите полную юлианскую дату\n",
    "def jullian(year, month, day, hour, minute, second):\n",
    "\n",
    "    \n",
    "    jd = \n",
    "    return jd\n"
   ]
  },
  {
   "cell_type": "code",
   "execution_count": null,
   "metadata": {},
   "outputs": [],
   "source": [
    "#Определение звездного времени по юлианской дате jd\n",
    "def JDtoGMST(jd):\n",
    "    EPOCH_1JAN_2000_12H = 2451545.0 #1 января 2000, 12h UTC по Юлианскому календарю\n",
    "    SEC_PER_DAY = 86400.0\n",
    "    EARTH_SPEED = 1.00273790934 #оборот/сидерический день\n",
    "\n",
    "    dayFract = math.fmod( jd + 0.5, 1.0 )\n",
    "\n",
    "    #TODO Определите параметр Tu\n",
    "    Tu = \n",
    "\n",
    "    #TODO Определите гринвичское сидерическое время в 0h (полночь) UTC\n",
    "    gmst_0h = \n",
    "\n",
    "    gmst = fmod( gmst_0h + dayFract * SEC_PER_DAY * EARTH_SPEED, SEC_PER_DAY)\n",
    "\n",
    "    if ( gmst < 0.0 ):\n",
    "        gmst += SEC_PER_DAY\n",
    "\n",
    "    gmst = 2*pi * ( gmst / SEC_PER_DAY )\n",
    "    return gmst"
   ]
  },
  {
   "cell_type": "code",
   "execution_count": null,
   "metadata": {},
   "outputs": [],
   "source": [
    "#Определение геоцентрических координат\n",
    "#Входные параметры: \n",
    "# t     - текущий момент времени (день эпохи от начала года)\n",
    "# T     - период орбиты (из TLE, рассчитывается по n)\n",
    "# epoch - время эпохи TLE\n",
    "# ii    - наклонение (из TLE)\n",
    "# raan  - долгота восходящего узла (из TLE)\n",
    "# M     - аномалия (из TLE) \n",
    "# perig - аргумент широты перигея (из TLE)\n",
    "# ec    - эксцентреситет (из TLE)\n",
    "# n     - число оборотов (из TLE)\n",
    "def calcXYZs(t, T, epoch, ii, raan, M, perig, ec, n):\n",
    "    #TODO Определите орбитальные элементы для времени t\n",
    "\n",
    "    \n",
    "    #Переведите координаты в ИГСК\n",
    "\n",
    "    \n",
    "    x = \n",
    "    y = \n",
    "    z = \n",
    "    \n",
    "    return x,y,z"
   ]
  },
  {
   "cell_type": "code",
   "execution_count": null,
   "metadata": {},
   "outputs": [],
   "source": [
    "def calcXYZ(t, tle):\n",
    "    return calcXYZs(t, tle['T'], tle['epoch'], tle['ii'], tle['raan'], tle['M'], tle['perig'], tle['ec'], tle['n'])\n",
    "    "
   ]
  },
  {
   "cell_type": "code",
   "execution_count": null,
   "metadata": {},
   "outputs": [],
   "source": [
    "#TODO Введите дату и время, на которую определяется положение спутника (см. вариант)\n",
    "year = \n",
    "month = \n",
    "day = \n",
    "hour = \n",
    "minute = \n",
    "second = \n",
    "dayYear = "
   ]
  },
  {
   "cell_type": "code",
   "execution_count": null,
   "metadata": {},
   "outputs": [],
   "source": [
    "#Перевод даты и времени в день эпохи от начала года\n",
    "#TODO Выполните необходимые вычисления внутри функции\n",
    "t = calc_epoch(dayYear, hour, minute, second)\n",
    "\n",
    "#Определение положения спутника в абсолютной геоцентрической системе координат XYZ\n",
    "#TODO Выполните необходимые вычисления внутри функции\n",
    "x, y, z = calcXYZ(t, tle)"
   ]
  },
  {
   "cell_type": "code",
   "execution_count": null,
   "metadata": {},
   "outputs": [],
   "source": [
    "#TODO Выведите получившиеся значения\n"
   ]
  },
  {
   "cell_type": "code",
   "execution_count": null,
   "metadata": {},
   "outputs": [],
   "source": [
    "#Перевод даты/времени в юлианскую дату\n",
    "#TODO Выполните необходимые вычисления внутри функции и выведите получившееся значение\n",
    "jd = jullian(year, month, day, hour, minute, second)\n"
   ]
  },
  {
   "cell_type": "code",
   "execution_count": null,
   "metadata": {},
   "outputs": [],
   "source": [
    "#Определение местного звездного времени\n",
    "#TODO Выполните необходимые вычисления внутри функции и выведите получившееся значение\n",
    "gmst = JDtoGMST(jd)\n"
   ]
  },
  {
   "cell_type": "markdown",
   "metadata": {},
   "source": [
    "### Определение подспутниковой точки"
   ]
  },
  {
   "cell_type": "code",
   "execution_count": null,
   "metadata": {},
   "outputs": [],
   "source": [
    "#Функция перевода координат из ИГСК в географические для сферической Земли\n",
    "def eci2geo(x, y, z, gmst):\n",
    "    EQUATOR_RAD = 6378.137 #км\n",
    "    \n",
    "    #TODO Рассчитайте географическое положение спутника (lat, lon).             \n",
    "    \n",
    "    lon =     \n",
    "    lat = \n",
    "    alt = \n",
    "\n",
    "    lon = fmod(atan2(y,x) - gmst, 2*pi)\n",
    "    if (lon > pi):\n",
    "        lon -= 2*pi\n",
    "    \n",
    "    #TODO Переведите радианы в градусы\n",
    "    \n",
    "    \n",
    "    return lat, lon, alt"
   ]
  },
  {
   "cell_type": "code",
   "execution_count": null,
   "metadata": {},
   "outputs": [],
   "source": [
    "#Определение географических координат\n",
    "#TODO Выполните необходимые вычисления внутри функции\n",
    "lat, lon, alt = eci2geo(x, y, z, gmst)\n",
    "print(\"lat=\", lat, \"lon=\", lon, \"alt=\", alt)"
   ]
  },
  {
   "cell_type": "markdown",
   "metadata": {},
   "source": [
    "### Построение спутниковой трассы"
   ]
  },
  {
   "cell_type": "code",
   "execution_count": null,
   "metadata": {},
   "outputs": [],
   "source": [
    "# Чтоб отобразить трассу спутника на карте необходимо все рассчитанные координаты \n",
    "# сохранить в виде списка и передать его модулю для визуализации геоданных. \n",
    "# 1. Создать переменные lats, lons и сохранить в них рассчитанные координаты \n",
    "#    (как в первом блоке файла)\n",
    "# 2. Скопировать целиком второй блок файла, отвечающий за визуализацию данных"
   ]
  },
  {
   "cell_type": "code",
   "execution_count": null,
   "metadata": {},
   "outputs": [],
   "source": [
    "# 1. Расчет массива координат\n",
    "lons = []\n",
    "lats = []\n",
    "alts = []\n",
    "\n",
    "#Интервал минут от 0 до 30 с шагом в 1 минуту \n",
    "track_min = list(range(1, 30, 1))\n",
    "\n",
    "#Определение координат для каждого момента времени\n",
    "for min in track_min:\n",
    "    # перевод даты и времени в день эпохи от начала года\n",
    "    t = calc_epoch(dayYear, hour, min, second)\n",
    "    \n",
    "\n",
    "    \n",
    "    \n",
    "    \n",
    "    #TODO определите географические координаты\n",
    "    lat, lon, alt = \n",
    "    \n",
    "\n",
    "    lats.append(lat) \n",
    "    lons.append(lon)\n",
    "    alts.append(alt)\n",
    "    print(minute, \"lat=\", lat, \"lon=\", lon, \"alt=\", alt)\n",
    "\n"
   ]
  },
  {
   "cell_type": "code",
   "execution_count": null,
   "metadata": {},
   "outputs": [],
   "source": [
    "# 2. Отображение на карте\n",
    "from netCDF4 import Dataset\n",
    "import matplotlib as mpl\n",
    "#mpl.use('TkAgg')\n",
    "import matplotlib.pyplot as plt\n",
    "\n",
    "from mpl_toolkits.basemap import Basemap\n",
    "import numpy as np\n",
    "\n",
    "#bbox = [-124.763068,24.523096,-66.949895,49.384358] # map boundaries\n",
    "bbox = [-180, -90, 180, 90] # map boundaries\n",
    "# figure setup\n",
    "fig,ax = plt.subplots(figsize=(9,4),dpi=200)\n",
    "ax.set_axis_off()\n",
    "# set basemap boundaries, cylindrical projection, 'i' = intermediate resolution\n",
    "m = Basemap(llcrnrlon=bbox[0],llcrnrlat=bbox[1],urcrnrlon=bbox[2],\n",
    "            urcrnrlat=bbox[3],resolution='i', projection='cyl')\n",
    "\n",
    "m.fillcontinents(color='#d9b38c',lake_color='#bdd5d5') # continent colors\n",
    "m.drawmapboundary(fill_color='#bdd5d5') # ocean color\n",
    "#m.drawcoastlines() \n",
    "m.drawcountries()\n",
    "#states = m.drawstates() # draw state boundaries\n",
    "parallels = np.linspace(bbox[0],bbox[2],5) # longitude lines\n",
    "m.drawparallels(parallels,labels=[True,False,False,False])\n",
    "meridians = np.linspace(bbox[1],bbox[3],5)  # latitude lines\n",
    "m.drawmeridians(meridians,labels=[False,False,False,True])\n",
    "\n",
    "\n",
    "x, y = m(lons, lats)\n",
    "m.plot(x, y, marker=None,color='m')\n",
    "\n",
    "plt.show()"
   ]
  },
  {
   "cell_type": "code",
   "execution_count": null,
   "metadata": {},
   "outputs": [],
   "source": [
    "#TODO Выполните следующие блоки для построения полосы обзора"
   ]
  },
  {
   "cell_type": "code",
   "execution_count": null,
   "metadata": {},
   "outputs": [],
   "source": [
    "def spAsin(x):\n",
    "    if (x > 1.0): x = 1.0\n",
    "    if (x < -1.0): x = -1.0;\n",
    "    return asin(x);\n",
    "\n",
    "\n",
    "def spAcos(x):\n",
    "    if (x > 1.0): x = 1.0;\n",
    "    if (x < -1.0): x = -1.0;\n",
    "    return acos(x);\n"
   ]
  },
  {
   "cell_type": "markdown",
   "metadata": {},
   "source": [
    " * \\brief расчёт положения точки сканирования (долгота принимается за 0-ое значение)\n",
    " * \\param lat Широта спутника\n",
    " * \\param alt Высота спутника\n",
    " * \\param sigma Угол сканирования (угол от надира)\n",
    " * \\param v_lat Широта заданной точки\n",
    " * \\param delta_lon Долгота заданной точки относительно долготы спутника\n",
    " * \\param sign знак для вычисления cos(alpha_L). Положительный, когда считаем точку в сторону увеличения долготы, от рицательный - в сторону уменьшения"
   ]
  },
  {
   "cell_type": "code",
   "execution_count": null,
   "metadata": {},
   "outputs": [],
   "source": [
    "def countViewedPoint(lat, alt, sigma, sign):\n",
    "    MEAN_RAD = 6371\n",
    "    #the angle at the sub-point from north to the sub-track\n",
    "    alpha_T = cos(tle['ii']) / cos(lat);\n",
    "    if (fabs(tle['ii']) > pi/2.):\n",
    "        alpha_T = spAsin( -alpha_T )\n",
    "    else:\n",
    "        alpha_T = spAsin( alpha_T )\n",
    "\n",
    "    alpha_L = alpha_T - pi/2 #the angle to the scan line\n",
    "    #For a viewing nadir angle (scan angle) sigma, the corresponding geocentric arc distance:\n",
    "    theta = spAsin( (MEAN_RAD + alt) / MEAN_RAD * sin(sigma) ) - sigma;\n",
    "    v_lat = spAsin(sin(lat)*cos(theta) + cos(lat)*sin(theta)*cos(alpha_L)*sign);\n",
    "    if (cos(v_lat) == 0):\n",
    "        delta_lon = 0;\n",
    "    else:\n",
    "        delta_cos = (cos(lat)*cos(theta) - sin(lat)*sin(theta)*cos(alpha_L)*sign) / cos(v_lat);\n",
    "        delta_lon = spAcos( delta_cos );\n",
    "    return v_lat, delta_lon"
   ]
  },
  {
   "cell_type": "code",
   "execution_count": null,
   "metadata": {},
   "outputs": [],
   "source": [
    "#для восходящего движения\n",
    "def countLeftPoint(maxAngle, spLat, spLon, spAlt):\n",
    "    v_lat, delta_lon = countViewedPoint(spLat, spAlt, maxAngle, 1)\n",
    "    lat_left = v_lat\n",
    "    lon_left = spLon + delta_lon\n",
    "    return lat_left, lon_left\n",
    "    \n",
    "def countRightPoint(maxAngle, spLat, spLon, spAlt):    \n",
    "    v_lat, delta_lon = countViewedPoint(spLat, spAlt, maxAngle, -1)\n",
    "    lat_right = v_lat\n",
    "    lon_right = spLon - delta_lon\n",
    "    return lat_right, lon_right"
   ]
  },
  {
   "cell_type": "code",
   "execution_count": null,
   "metadata": {},
   "outputs": [],
   "source": [
    "avhrr_max = 55.37 * pi / 180\n",
    "\n",
    "latBorder = []\n",
    "lonBorder = []\n",
    "\n",
    "start = 23\n",
    "end = len(lats)\n",
    "\n",
    "for idx in range(start, end, 1):\n",
    "    lat, lon = countLeftPoint(avhrr_max, lats[idx]*pi/180, lons[idx]*pi/180, alts[idx])\n",
    "    latBorder.append(lat * 180 / pi)\n",
    "    lonBorder.append(lon * 180 / pi)\n",
    "\n",
    "for idx in range(end-1, start, -1):    \n",
    "    lat, lon = countRightPoint(avhrr_max, lats[idx]*pi/180, lons[idx]*pi/180, alts[idx])\n",
    "    latBorder.append(lat * 180 / pi)\n",
    "    lonBorder.append(lon * 180 / pi)\n",
    "    \n"
   ]
  },
  {
   "cell_type": "code",
   "execution_count": null,
   "metadata": {
    "scrolled": true
   },
   "outputs": [],
   "source": [
    "#latBorder, lonBorder"
   ]
  },
  {
   "cell_type": "code",
   "execution_count": null,
   "metadata": {},
   "outputs": [],
   "source": [
    "bbox = [-180, -90, 180, 90] # map boundaries\n",
    "\n",
    "# figure setup\n",
    "fig,ax = plt.subplots(figsize=(9,4),dpi=200)\n",
    "ax.set_axis_off()\n",
    "# set basemap boundaries, cylindrical projection, 'i' = intermediate resolution\n",
    "m = Basemap(llcrnrlon=bbox[0],llcrnrlat=bbox[1],urcrnrlon=bbox[2],\n",
    "            urcrnrlat=bbox[3],resolution='i', projection='cyl')\n",
    "\n",
    "m.drawcoastlines(linewidth=0.5, linestyle='solid', color='grey', zorder = 6)\n",
    "#m.drawcountries(linewidth=0.5, linestyle='solid', color='black', zorder = 6)\n",
    "    \n",
    "m.fillcontinents(color='#fbf8e7',lake_color='#c5eff7',zorder=1) # continent colors\n",
    "m.drawmapboundary(fill_color='#c5eff7',zorder=0) # ocean color\n",
    "parallels = np.linspace(bbox[0],bbox[2],5) # longitude lines\n",
    "m.drawparallels(parallels,labels=[True,False,False,False],zorder=3,fontsize=8)\n",
    "meridians = np.linspace(bbox[1],bbox[3],5)  # latitude lines\n",
    "m.drawmeridians(meridians,labels=[False,False,False,True],zorder=4,fontsize=8)\n",
    "\n",
    "x, y = m(lons, lats)\n",
    "m.plot(x, y, marker=None,color='m')\n",
    "\n",
    "x, y = m(lonBorder, latBorder)\n",
    "m.plot(x, y, marker=None,color='b')\n",
    "\n",
    "plt.show()"
   ]
  },
  {
   "cell_type": "code",
   "execution_count": null,
   "metadata": {},
   "outputs": [],
   "source": []
  }
 ],
 "metadata": {
  "kernelspec": {
   "display_name": "Python 3",
   "language": "python",
   "name": "python3"
  },
  "language_info": {
   "codemirror_mode": {
    "name": "ipython",
    "version": 3
   },
   "file_extension": ".py",
   "mimetype": "text/x-python",
   "name": "python",
   "nbconvert_exporter": "python",
   "pygments_lexer": "ipython3",
   "version": "3.7.3"
  }
 },
 "nbformat": 4,
 "nbformat_minor": 2
}
